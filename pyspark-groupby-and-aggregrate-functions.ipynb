{
 "cells": [
  {
   "cell_type": "markdown",
   "id": "38926ddf-d5de-4ab3-ae00-a3d60dd58a58",
   "metadata": {},
   "source": [
    "#### pyspark GroupBy and Aggregrate Functions\n",
    "- Groupby function follows by aggregrate function\n",
    "- Aggregate function can also be applied separtely "
   ]
  },
  {
   "cell_type": "code",
   "execution_count": 1,
   "id": "a8135d7e-b11a-4bb4-ab32-af933c04b7ef",
   "metadata": {},
   "outputs": [],
   "source": [
    "%load_ext watermark\n",
    "%load_ext lab_black"
   ]
  },
  {
   "cell_type": "code",
   "execution_count": 2,
   "id": "8af75439-378c-4c9a-8a0c-7cc521c21058",
   "metadata": {},
   "outputs": [],
   "source": [
    "from pyspark.sql import SparkSession"
   ]
  },
  {
   "cell_type": "code",
   "execution_count": 5,
   "id": "565592ed-815e-45d9-bbd2-1283bea0a531",
   "metadata": {},
   "outputs": [],
   "source": [
    "# start session\n",
    "spark = SparkSession.builder.appName(\"Learning-spark\").getOrCreate()"
   ]
  },
  {
   "cell_type": "code",
   "execution_count": 6,
   "id": "0128fadd-646d-4715-babd-c9221b00c9b4",
   "metadata": {},
   "outputs": [
    {
     "name": "stdout",
     "output_type": "stream",
     "text": [
      "+----------+----+------+------+---+------+----+\n",
      "|total_bill| tip|   sex|smoker|day|  time|size|\n",
      "+----------+----+------+------+---+------+----+\n",
      "|     16.99|1.01|Female|    No|Sun|Dinner|   2|\n",
      "|     10.34|1.66|  Male|    No|Sun|Dinner|   3|\n",
      "|     21.01| 3.5|  Male|    No|Sun|Dinner|   3|\n",
      "|     23.68|3.31|  Male|    No|Sun|Dinner|   2|\n",
      "|     24.59|3.61|Female|    No|Sun|Dinner|   4|\n",
      "+----------+----+------+------+---+------+----+\n",
      "only showing top 5 rows\n",
      "\n"
     ]
    }
   ],
   "source": [
    "# read the dataset\n",
    "df_pyspark = spark.read.csv(\"datasets/tips.csv\", header=True, inferSchema=True)\n",
    "df_pyspark.show(5)"
   ]
  },
  {
   "cell_type": "code",
   "execution_count": 7,
   "id": "3840fe6d-d989-4bec-bb53-959941ac59a1",
   "metadata": {},
   "outputs": [
    {
     "data": {
      "text/plain": [
       "[('total_bill', 'double'),\n",
       " ('tip', 'double'),\n",
       " ('sex', 'string'),\n",
       " ('smoker', 'string'),\n",
       " ('day', 'string'),\n",
       " ('time', 'string'),\n",
       " ('size', 'int')]"
      ]
     },
     "execution_count": 7,
     "metadata": {},
     "output_type": "execute_result"
    }
   ],
   "source": [
    "# lets see the dtypes\n",
    "df_pyspark.dtypes"
   ]
  },
  {
   "cell_type": "code",
   "execution_count": 8,
   "id": "f3b9a001-a696-4ee7-bbc0-eb529f99818b",
   "metadata": {},
   "outputs": [
    {
     "name": "stdout",
     "output_type": "stream",
     "text": [
      "root\n",
      " |-- total_bill: double (nullable = true)\n",
      " |-- tip: double (nullable = true)\n",
      " |-- sex: string (nullable = true)\n",
      " |-- smoker: string (nullable = true)\n",
      " |-- day: string (nullable = true)\n",
      " |-- time: string (nullable = true)\n",
      " |-- size: integer (nullable = true)\n",
      "\n"
     ]
    }
   ],
   "source": [
    "# similarly we can check schemas too\n",
    "df_pyspark.printSchema()"
   ]
  },
  {
   "cell_type": "code",
   "execution_count": 10,
   "id": "0acf3fe3-95f3-4790-b3d3-78161f140c1a",
   "metadata": {},
   "outputs": [
    {
     "name": "stdout",
     "output_type": "stream",
     "text": [
      "+------+------------------+-----------------+---------+\n",
      "|   sex|   sum(total_bill)|         sum(tip)|sum(size)|\n",
      "+------+------------------+-----------------+---------+\n",
      "|Female|1570.9499999999998|           246.51|      214|\n",
      "|  Male|3256.8200000000024|485.0700000000001|      413|\n",
      "+------+------------------+-----------------+---------+\n",
      "\n"
     ]
    }
   ],
   "source": [
    "# lets groupby to see the tip given according to gender\n",
    "df_pyspark.groupBy(\"sex\").sum().show()"
   ]
  },
  {
   "cell_type": "code",
   "execution_count": 11,
   "id": "55347a1e-8ac2-4c3c-9cce-655fb979f2bc",
   "metadata": {},
   "outputs": [
    {
     "name": "stdout",
     "output_type": "stream",
     "text": [
      "+------+------------------+------------------+------------------+\n",
      "|   sex|   avg(total_bill)|          avg(tip)|         avg(size)|\n",
      "+------+------------------+------------------+------------------+\n",
      "|Female|18.056896551724137| 2.833448275862069|2.4597701149425286|\n",
      "|  Male|20.744076433121034|3.0896178343949052|2.6305732484076434|\n",
      "+------+------------------+------------------+------------------+\n",
      "\n"
     ]
    }
   ],
   "source": [
    "# lets see the average tip given by gender\n",
    "df_pyspark.groupBy(\"sex\").avg().show()"
   ]
  },
  {
   "cell_type": "code",
   "execution_count": 18,
   "id": "14252479-102a-469c-9c91-1bfd824ba796",
   "metadata": {},
   "outputs": [
    {
     "name": "stdout",
     "output_type": "stream",
     "text": [
      "+------+-----+\n",
      "|   sex|count|\n",
      "+------+-----+\n",
      "|Female|   87|\n",
      "|  Male|  157|\n",
      "+------+-----+\n",
      "\n"
     ]
    }
   ],
   "source": [
    "df_pyspark.groupBy(\"sex\").count().show()"
   ]
  },
  {
   "cell_type": "code",
   "execution_count": 14,
   "id": "1bbdd791-f0ed-4fe9-ab40-93a26a76c564",
   "metadata": {},
   "outputs": [
    {
     "name": "stdout",
     "output_type": "stream",
     "text": [
      "+--------+\n",
      "|sum(tip)|\n",
      "+--------+\n",
      "|  731.58|\n",
      "+--------+\n",
      "\n"
     ]
    }
   ],
   "source": [
    "# lets aggregrate the total tip got\n",
    "df_pyspark.agg({\"tip\": \"sum\"}).show()"
   ]
  },
  {
   "cell_type": "code",
   "execution_count": 16,
   "id": "4fc598bf-d5ff-4a8a-941a-41fc06ed4dec",
   "metadata": {},
   "outputs": [
    {
     "name": "stdout",
     "output_type": "stream",
     "text": [
      "+-----------------+\n",
      "|  sum(total_bill)|\n",
      "+-----------------+\n",
      "|4827.770000000001|\n",
      "+-----------------+\n",
      "\n"
     ]
    }
   ],
   "source": [
    "# lets aggregrate the total bill\n",
    "df_pyspark.agg({\"total_bill\": \"sum\"}).show()"
   ]
  },
  {
   "cell_type": "code",
   "execution_count": null,
   "id": "f78aa828-364f-4865-8527-b6c9893ada36",
   "metadata": {},
   "outputs": [],
   "source": []
  }
 ],
 "metadata": {
  "kernelspec": {
   "display_name": "Python 3",
   "language": "python",
   "name": "python3"
  },
  "language_info": {
   "codemirror_mode": {
    "name": "ipython",
    "version": 3
   },
   "file_extension": ".py",
   "mimetype": "text/x-python",
   "name": "python",
   "nbconvert_exporter": "python",
   "pygments_lexer": "ipython3",
   "version": "3.8.5"
  }
 },
 "nbformat": 4,
 "nbformat_minor": 5
}
