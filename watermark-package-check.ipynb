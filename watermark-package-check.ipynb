{
 "cells": [
  {
   "cell_type": "markdown",
   "id": "1ec42ec7-f065-42f7-af49-cf134180b23a",
   "metadata": {},
   "source": [
    "[Watermark package try-out based on github doc](https://github.com/rasbt/watermark)\n",
    "\n",
    "An IPython magic extension for printing date and time stamps, version numbers, and hardware information"
   ]
  },
  {
   "cell_type": "code",
   "execution_count": 15,
   "id": "9bfa2fe8-7cb2-4a80-956e-b9511953a657",
   "metadata": {},
   "outputs": [],
   "source": [
    "#!pip install watermark"
   ]
  },
  {
   "cell_type": "code",
   "execution_count": 2,
   "id": "2e41658f-b3d3-41b7-9dbd-9e0d20eca160",
   "metadata": {},
   "outputs": [],
   "source": [
    "%load_ext watermark"
   ]
  },
  {
   "cell_type": "code",
   "execution_count": 3,
   "id": "cbb4260d-9275-48c2-b7b6-9a32847a27cd",
   "metadata": {},
   "outputs": [
    {
     "name": "stdout",
     "output_type": "stream",
     "text": [
      "Watermark: 2.2.0\n",
      "\n"
     ]
    }
   ],
   "source": [
    "%watermark --watermark"
   ]
  },
  {
   "cell_type": "code",
   "execution_count": 4,
   "id": "b9ef5d54-31a7-4a2b-abd2-655009cdfbfc",
   "metadata": {},
   "outputs": [
    {
     "data": {
      "text/plain": [
       "\u001b[0;31mDocstring:\u001b[0m\n",
       "::\n",
       "\n",
       "  %watermark [-a AUTHOR] [-d] [-n] [-t] [-i] [-z] [-u] [-c CUSTOM_TIME] [-v] [-p PACKAGES] [-h] [-m] [-g] [-r]\n",
       "                 [-b] [-w] [-iv]\n",
       "\n",
       "IPython magic function to print date/time stamps\n",
       "and various system information.\n",
       "\n",
       "optional arguments:\n",
       "  -a AUTHOR, --author AUTHOR\n",
       "                        prints author name\n",
       "  -d, --date            prints current date as YYYY-mm-dd\n",
       "  -n, --datename        prints date with abbrv. day and month names\n",
       "  -t, --time            prints current time as HH-MM-SS\n",
       "  -i, --iso8601         prints the combined date and time including the time zone in the ISO 8601 standard with UTC\n",
       "                        offset\n",
       "  -z, --timezone        appends the local time zone\n",
       "  -u, --updated         appends a string \"Last updated: \"\n",
       "  -c CUSTOM_TIME, --custom_time CUSTOM_TIME\n",
       "                        prints a valid strftime() string\n",
       "  -v, --python          prints Python and IPython version\n",
       "  -p PACKAGES, --packages PACKAGES\n",
       "                        prints versions of specified Python modules and packages\n",
       "  -h, --hostname        prints the host name\n",
       "  -m, --machine         prints system and machine info\n",
       "  -g, --githash         prints current Git commit hash\n",
       "  -r, --gitrepo         prints current Git remote address\n",
       "  -b, --gitbranch       prints current Git branch\n",
       "  -w, --watermark       prints the current version of watermark\n",
       "  -iv, --iversions      prints the name/version of all imported modules\n",
       "\u001b[0;31mFile:\u001b[0m      /mnt/c/Users/skoirala/Documents/github/spark-practice/spark/lib/python3.8/site-packages/watermark/magic.py\n"
      ]
     },
     "metadata": {},
     "output_type": "display_data"
    }
   ],
   "source": [
    "%watermark?"
   ]
  },
  {
   "cell_type": "code",
   "execution_count": 5,
   "id": "f6273f2e-e08a-419b-88f5-99eeb7ccdc28",
   "metadata": {},
   "outputs": [
    {
     "name": "stdout",
     "output_type": "stream",
     "text": [
      "Last updated: 2021-05-13T12:03:55.361768+03:00\n",
      "\n",
      "Python implementation: CPython\n",
      "Python version       : 3.8.5\n",
      "IPython version      : 7.23.1\n",
      "\n",
      "Compiler    : GCC 9.3.0\n",
      "OS          : Linux\n",
      "Release     : 5.4.72-microsoft-standard-WSL2\n",
      "Machine     : x86_64\n",
      "Processor   : x86_64\n",
      "CPU cores   : 8\n",
      "Architecture: 64bit\n",
      "\n"
     ]
    }
   ],
   "source": [
    "%watermark"
   ]
  },
  {
   "cell_type": "code",
   "execution_count": 6,
   "id": "f31a6714-b217-4839-a6f0-bec135e2c581",
   "metadata": {},
   "outputs": [
    {
     "name": "stdout",
     "output_type": "stream",
     "text": [
      "Last updated: 2021-05-13 12:04:08\n",
      "\n"
     ]
    }
   ],
   "source": [
    "%watermark -u -t -d"
   ]
  },
  {
   "cell_type": "code",
   "execution_count": 7,
   "id": "1c6a8192-79ac-44af-84fa-5c9c95408e69",
   "metadata": {},
   "outputs": [
    {
     "name": "stdout",
     "output_type": "stream",
     "text": [
      "Last updated: 2021-05-13T12:04:15.432528+03:00\n",
      "\n"
     ]
    }
   ],
   "source": [
    "%watermark -u --iso8601"
   ]
  },
  {
   "cell_type": "code",
   "execution_count": 8,
   "id": "907e3200-6546-406a-95ac-1939416f9490",
   "metadata": {},
   "outputs": [
    {
     "name": "stdout",
     "output_type": "stream",
     "text": [
      "Last updated: Thu May 13 2021 12:04:22EEST\n",
      "\n"
     ]
    }
   ],
   "source": [
    "%watermark -u -n -t -z"
   ]
  },
  {
   "cell_type": "code",
   "execution_count": 9,
   "id": "9bd70116-75cb-4244-b843-f79b3502dd8a",
   "metadata": {},
   "outputs": [
    {
     "name": "stdout",
     "output_type": "stream",
     "text": [
      "Python implementation: CPython\n",
      "Python version       : 3.8.5\n",
      "IPython version      : 7.23.1\n",
      "\n"
     ]
    }
   ],
   "source": [
    "%watermark -v"
   ]
  },
  {
   "cell_type": "code",
   "execution_count": 10,
   "id": "9fd70407-ec7f-4f2f-9f18-133b37b35bdd",
   "metadata": {},
   "outputs": [
    {
     "name": "stdout",
     "output_type": "stream",
     "text": [
      "Compiler    : GCC 9.3.0\n",
      "OS          : Linux\n",
      "Release     : 5.4.72-microsoft-standard-WSL2\n",
      "Machine     : x86_64\n",
      "Processor   : x86_64\n",
      "CPU cores   : 8\n",
      "Architecture: 64bit\n",
      "\n"
     ]
    }
   ],
   "source": [
    "%watermark -m"
   ]
  },
  {
   "cell_type": "code",
   "execution_count": 12,
   "id": "d6fc6636-4eac-4125-8f28-eee7a0ae9d0a",
   "metadata": {},
   "outputs": [
    {
     "name": "stdout",
     "output_type": "stream",
     "text": [
      "Python implementation: CPython\n",
      "Python version       : 3.8.5\n",
      "IPython version      : 7.23.1\n",
      "\n",
      "numpy  : 1.20.2\n",
      "scipy  : 1.6.3\n",
      "pyspark: 3.1.1\n",
      "\n",
      "Compiler    : GCC 9.3.0\n",
      "OS          : Linux\n",
      "Release     : 5.4.72-microsoft-standard-WSL2\n",
      "Machine     : x86_64\n",
      "Processor   : x86_64\n",
      "CPU cores   : 8\n",
      "Architecture: 64bit\n",
      "\n",
      "Git hash: 76f9996fcf8500d5239aa8f8e40deac10ef75633\n",
      "\n"
     ]
    }
   ],
   "source": [
    "%watermark -v -m -p numpy,scipy,pyspark -g"
   ]
  },
  {
   "cell_type": "code",
   "execution_count": 13,
   "id": "a5e3d9a0-6c46-4ec6-8bb8-b0d7b5d779ca",
   "metadata": {},
   "outputs": [
    {
     "name": "stdout",
     "output_type": "stream",
     "text": [
      "Author: Sudarshan Koirala\n",
      "\n",
      "Last updated: 2021-05-13\n",
      "\n",
      "Python implementation: CPython\n",
      "Python version       : 3.8.5\n",
      "IPython version      : 7.23.1\n",
      "\n",
      "Compiler    : GCC 9.3.0\n",
      "OS          : Linux\n",
      "Release     : 5.4.72-microsoft-standard-WSL2\n",
      "Machine     : x86_64\n",
      "Processor   : x86_64\n",
      "CPU cores   : 8\n",
      "Architecture: 64bit\n",
      "\n"
     ]
    }
   ],
   "source": [
    "%watermark -a \"Sudarshan Koirala\" -u -d -v -m"
   ]
  },
  {
   "cell_type": "code",
   "execution_count": 14,
   "id": "5aa20f2a-fce2-44b7-9ada-2c466b450a00",
   "metadata": {},
   "outputs": [
    {
     "name": "stdout",
     "output_type": "stream",
     "text": [
      "matplotlib: 3.4.1\n",
      "pyspark   : 3.1.1\n",
      "\n"
     ]
    }
   ],
   "source": [
    "# Imported modules info\n",
    "import pyspark\n",
    "import matplotlib.pyplot as plt\n",
    "\n",
    "%watermark -iv"
   ]
  },
  {
   "cell_type": "code",
   "execution_count": null,
   "id": "6f701ad0-afc6-4f36-8b5a-5602c2f4e3e3",
   "metadata": {},
   "outputs": [],
   "source": []
  }
 ],
 "metadata": {
  "kernelspec": {
   "display_name": "Python 3",
   "language": "python",
   "name": "python3"
  },
  "language_info": {
   "codemirror_mode": {
    "name": "ipython",
    "version": 3
   },
   "file_extension": ".py",
   "mimetype": "text/x-python",
   "name": "python",
   "nbconvert_exporter": "python",
   "pygments_lexer": "ipython3",
   "version": "3.8.5"
  }
 },
 "nbformat": 4,
 "nbformat_minor": 5
}
