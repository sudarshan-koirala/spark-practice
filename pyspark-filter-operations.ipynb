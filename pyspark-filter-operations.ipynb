{
 "cells": [
  {
   "cell_type": "markdown",
   "id": "6b25c0ea-9321-4f4e-9f73-6afa26d1031e",
   "metadata": {},
   "source": [
    "#### Filter operations in Pyspark\n",
    "- &, |, ==, < , >, >=, <=, ~"
   ]
  },
  {
   "cell_type": "code",
   "execution_count": 1,
   "id": "2e63dd40-9d82-47cb-8efd-3e6b6bd8ffec",
   "metadata": {},
   "outputs": [],
   "source": [
    "%load_ext watermark\n",
    "%load_ext lab_black"
   ]
  },
  {
   "cell_type": "code",
   "execution_count": 2,
   "id": "ae2f49d2-1d79-4edb-ac8f-5d112844f976",
   "metadata": {},
   "outputs": [],
   "source": [
    "from pyspark.sql import SparkSession"
   ]
  },
  {
   "cell_type": "code",
   "execution_count": 3,
   "id": "7f167158-653a-4bc7-86ac-f2b9cba79880",
   "metadata": {},
   "outputs": [],
   "source": [
    "# start session\n",
    "spark = SparkSession.builder.appName(\"Learning-spark\").getOrCreate()"
   ]
  },
  {
   "cell_type": "code",
   "execution_count": 4,
   "id": "3087fd0b-eb21-4281-9dea-9c1924033419",
   "metadata": {},
   "outputs": [
    {
     "name": "stdout",
     "output_type": "stream",
     "text": [
      "+----------+----+------+------+---+------+----+\n",
      "|total_bill| tip|   sex|smoker|day|  time|size|\n",
      "+----------+----+------+------+---+------+----+\n",
      "|     16.99|1.01|Female|    No|Sun|Dinner|   2|\n",
      "|     10.34|1.66|  Male|    No|Sun|Dinner|   3|\n",
      "|     21.01| 3.5|  Male|    No|Sun|Dinner|   3|\n",
      "|     23.68|3.31|  Male|    No|Sun|Dinner|   2|\n",
      "|     24.59|3.61|Female|    No|Sun|Dinner|   4|\n",
      "+----------+----+------+------+---+------+----+\n",
      "only showing top 5 rows\n",
      "\n"
     ]
    }
   ],
   "source": [
    "# read the dataset\n",
    "df_pyspark = spark.read.csv(\"datasets/tips.csv\", header=True, inferSchema=True)\n",
    "df_pyspark.show(5)"
   ]
  },
  {
   "cell_type": "markdown",
   "id": "263c2d24-047e-4af4-9d1f-333ef0a17429",
   "metadata": {},
   "source": [
    "#### Some filter operations "
   ]
  },
  {
   "cell_type": "code",
   "execution_count": 5,
   "id": "d56c4e91-dd91-4003-85da-5f27b03be9da",
   "metadata": {},
   "outputs": [
    {
     "name": "stdout",
     "output_type": "stream",
     "text": [
      "+----------+----+------+------+---+------+----+\n",
      "|total_bill| tip|   sex|smoker|day|  time|size|\n",
      "+----------+----+------+------+---+------+----+\n",
      "|     16.99|1.01|Female|    No|Sun|Dinner|   2|\n",
      "|     10.34|1.66|  Male|    No|Sun|Dinner|   3|\n",
      "|      8.77| 2.0|  Male|    No|Sun|Dinner|   2|\n",
      "|     15.04|1.96|  Male|    No|Sun|Dinner|   2|\n",
      "|     10.27|1.71|  Male|    No|Sun|Dinner|   2|\n",
      "+----------+----+------+------+---+------+----+\n",
      "only showing top 5 rows\n",
      "\n"
     ]
    }
   ],
   "source": [
    "# filter based on only one operation\n",
    "df_pyspark.filter(\"tip<=3\").show(5)"
   ]
  },
  {
   "cell_type": "code",
   "execution_count": 13,
   "id": "37030f7f-6a85-4133-9c9c-e1e7d03eaee6",
   "metadata": {},
   "outputs": [
    {
     "name": "stdout",
     "output_type": "stream",
     "text": [
      "+------+----------+\n",
      "|   sex|total_bill|\n",
      "+------+----------+\n",
      "|Female|     16.99|\n",
      "|  Male|     10.34|\n",
      "|  Male|      8.77|\n",
      "|  Male|     15.04|\n",
      "|  Male|     10.27|\n",
      "+------+----------+\n",
      "only showing top 5 rows\n",
      "\n"
     ]
    }
   ],
   "source": [
    "# filter for specific columns\n",
    "df_pyspark.filter(\"tip<=3\").select([\"sex\", \"total_bill\"]).show(5)"
   ]
  },
  {
   "cell_type": "code",
   "execution_count": 15,
   "id": "24921216-bcd7-4e34-902b-e74a0282c51f",
   "metadata": {},
   "outputs": [
    {
     "name": "stdout",
     "output_type": "stream",
     "text": [
      "+----------+----+------+------+---+------+----+\n",
      "|total_bill| tip|   sex|smoker|day|  time|size|\n",
      "+----------+----+------+------+---+------+----+\n",
      "|     16.99|1.01|Female|    No|Sun|Dinner|   2|\n",
      "|     10.34|1.66|  Male|    No|Sun|Dinner|   3|\n",
      "|      8.77| 2.0|  Male|    No|Sun|Dinner|   2|\n",
      "|     15.04|1.96|  Male|    No|Sun|Dinner|   2|\n",
      "|     10.27|1.71|  Male|    No|Sun|Dinner|   2|\n",
      "+----------+----+------+------+---+------+----+\n",
      "only showing top 5 rows\n",
      "\n"
     ]
    }
   ],
   "source": [
    "# different approach of filtering\n",
    "df_pyspark.filter(df_pyspark[\"tip\"] <= 3).show(5)"
   ]
  },
  {
   "cell_type": "code",
   "execution_count": 16,
   "id": "6dc23118-3f3e-4ed8-901d-6db74ee551eb",
   "metadata": {},
   "outputs": [
    {
     "name": "stdout",
     "output_type": "stream",
     "text": [
      "+----------+----+------+------+---+------+----+\n",
      "|total_bill| tip|   sex|smoker|day|  time|size|\n",
      "+----------+----+------+------+---+------+----+\n",
      "|      8.77| 2.0|  Male|    No|Sun|Dinner|   2|\n",
      "|     18.43| 3.0|  Male|    No|Sun|Dinner|   4|\n",
      "|     20.29|2.75|Female|    No|Sat|Dinner|   2|\n",
      "|     15.77|2.23|Female|    No|Sat|Dinner|   2|\n",
      "|     17.81|2.34|  Male|    No|Sat|Dinner|   4|\n",
      "+----------+----+------+------+---+------+----+\n",
      "only showing top 5 rows\n",
      "\n"
     ]
    }
   ],
   "source": [
    "# filtering by providing range\n",
    "df_pyspark.filter((df_pyspark[\"tip\"] <= 3) & (df_pyspark[\"tip\"] >= 2)).show(5)"
   ]
  },
  {
   "cell_type": "code",
   "execution_count": 17,
   "id": "b17e39db-2797-4b8b-8b5f-76afacdbb190",
   "metadata": {},
   "outputs": [
    {
     "name": "stdout",
     "output_type": "stream",
     "text": [
      "+----------+----+------+------+---+------+----+\n",
      "|total_bill| tip|   sex|smoker|day|  time|size|\n",
      "+----------+----+------+------+---+------+----+\n",
      "|     16.99|1.01|Female|    No|Sun|Dinner|   2|\n",
      "|     10.34|1.66|  Male|    No|Sun|Dinner|   3|\n",
      "|     21.01| 3.5|  Male|    No|Sun|Dinner|   3|\n",
      "|     23.68|3.31|  Male|    No|Sun|Dinner|   2|\n",
      "|     24.59|3.61|Female|    No|Sun|Dinner|   4|\n",
      "+----------+----+------+------+---+------+----+\n",
      "only showing top 5 rows\n",
      "\n"
     ]
    }
   ],
   "source": [
    "# filtering by providing range\n",
    "df_pyspark.filter((df_pyspark[\"tip\"] <= 3) | (df_pyspark[\"tip\"] >= 2)).show(5)"
   ]
  },
  {
   "cell_type": "code",
   "execution_count": 18,
   "id": "b4a142bb-31d1-42a1-a161-602e4334317e",
   "metadata": {},
   "outputs": [
    {
     "name": "stdout",
     "output_type": "stream",
     "text": [
      "+----------+----+------+------+---+------+----+\n",
      "|total_bill| tip|   sex|smoker|day|  time|size|\n",
      "+----------+----+------+------+---+------+----+\n",
      "|     21.01| 3.5|  Male|    No|Sun|Dinner|   3|\n",
      "|     23.68|3.31|  Male|    No|Sun|Dinner|   2|\n",
      "|     24.59|3.61|Female|    No|Sun|Dinner|   4|\n",
      "|     25.29|4.71|  Male|    No|Sun|Dinner|   4|\n",
      "|     26.88|3.12|  Male|    No|Sun|Dinner|   4|\n",
      "+----------+----+------+------+---+------+----+\n",
      "only showing top 5 rows\n",
      "\n"
     ]
    }
   ],
   "source": [
    "# filtering with not operation\n",
    "df_pyspark.filter(~(df_pyspark[\"tip\"] <= 3)).show(5)"
   ]
  },
  {
   "cell_type": "code",
   "execution_count": 20,
   "id": "a53e7705-6d15-433e-8b1f-db26dce8b1d6",
   "metadata": {},
   "outputs": [
    {
     "name": "stdout",
     "output_type": "stream",
     "text": [
      "+----------+---+------+------+----+------+----+\n",
      "|total_bill|tip|   sex|smoker| day|  time|size|\n",
      "+----------+---+------+------+----+------+----+\n",
      "|     18.43|3.0|  Male|    No| Sun|Dinner|   4|\n",
      "|     19.65|3.0|Female|    No| Sat|Dinner|   2|\n",
      "|     15.06|3.0|Female|    No| Sat|Dinner|   2|\n",
      "|     18.29|3.0|  Male|    No| Sun|Dinner|   2|\n",
      "|     18.04|3.0|  Male|    No| Sun|Dinner|   2|\n",
      "|     38.01|3.0|  Male|   Yes| Sat|Dinner|   4|\n",
      "|     17.07|3.0|Female|    No| Sat|Dinner|   3|\n",
      "|     22.76|3.0|  Male|    No|Thur| Lunch|   2|\n",
      "|     19.44|3.0|  Male|   Yes|Thur| Lunch|   2|\n",
      "|     21.16|3.0|  Male|    No|Thur| Lunch|   2|\n",
      "|     28.97|3.0|  Male|   Yes| Fri|Dinner|   2|\n",
      "|     21.01|3.0|  Male|   Yes| Fri|Dinner|   2|\n",
      "|     15.38|3.0|Female|   Yes| Fri|Dinner|   2|\n",
      "|      14.0|3.0|  Male|    No| Sat|Dinner|   2|\n",
      "|     17.51|3.0|Female|   Yes| Sun|Dinner|   2|\n",
      "|     40.55|3.0|  Male|   Yes| Sun|Dinner|   2|\n",
      "|     38.73|3.0|  Male|   Yes| Sat|Dinner|   4|\n",
      "|     28.15|3.0|  Male|   Yes| Sat|Dinner|   5|\n",
      "|     15.98|3.0|Female|    No| Fri| Lunch|   3|\n",
      "|     20.45|3.0|  Male|    No| Sat|Dinner|   4|\n",
      "+----------+---+------+------+----+------+----+\n",
      "only showing top 20 rows\n",
      "\n"
     ]
    }
   ],
   "source": [
    "# filtering with exact value\n",
    "df_pyspark.filter(df_pyspark[\"tip\"] == 3).show()"
   ]
  },
  {
   "cell_type": "markdown",
   "id": "7e073826-85ba-45aa-adb9-5d1820b0f1fe",
   "metadata": {},
   "source": [
    "We can play around with different filter opeations and analyze the result."
   ]
  },
  {
   "cell_type": "code",
   "execution_count": null,
   "id": "fb7d4648-edff-45f7-981a-c7be85c787b5",
   "metadata": {},
   "outputs": [],
   "source": []
  }
 ],
 "metadata": {
  "kernelspec": {
   "display_name": "Python 3",
   "language": "python",
   "name": "python3"
  },
  "language_info": {
   "codemirror_mode": {
    "name": "ipython",
    "version": 3
   },
   "file_extension": ".py",
   "mimetype": "text/x-python",
   "name": "python",
   "nbconvert_exporter": "python",
   "pygments_lexer": "ipython3",
   "version": "3.8.5"
  }
 },
 "nbformat": 4,
 "nbformat_minor": 5
}
